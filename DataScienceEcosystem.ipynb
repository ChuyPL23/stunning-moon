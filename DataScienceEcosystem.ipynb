{
 "cells": [
  {
   "cell_type": "markdown",
   "id": "aa635278",
   "metadata": {},
   "source": [
    "# Data Science Tools and Ecosystem"
   ]
  },
  {
   "cell_type": "markdown",
   "id": "deb41c7b",
   "metadata": {},
   "source": [
    "## In this notebook, Data Science Tools and Ecosystem are summarized"
   ]
  },
  {
   "cell_type": "markdown",
   "id": "688c3f03",
   "metadata": {},
   "source": [
    "### Some of the popular languages that Data Scientists use are:\n",
    "        1.- Python\n",
    "        2.- Julia\n",
    "        3.- R"
   ]
  },
  {
   "cell_type": "markdown",
   "id": "3c3119a1",
   "metadata": {},
   "source": [
    "### Some of the commonly used libraries used by Data Scientists include:\n",
    "    1.-TensorFlow\n",
    "    2.- Pandas\n",
    "    3.- Numpy\n"
   ]
  },
  {
   "cell_type": "markdown",
   "id": "b249804a",
   "metadata": {},
   "source": [
    "| Data Science Tools       |\n",
    "|--------------------------|\n",
    "| Jupyter Notebooks        |\n",
    "| RStudio                  |\n",
    "| VS Code with Python      |"
   ]
  },
  {
   "cell_type": "markdown",
   "id": "075a160b",
   "metadata": {},
   "source": [
    "### Below are a few examples of evaluating arithmetic expressions in Python.\n",
    "    1.- 1+1 (sum)\n",
    "    2.- 3-4 (subtract)\n",
    "    3.- 5*6 (multiplication)"
   ]
  },
  {
   "cell_type": "markdown",
   "id": "4f499716",
   "metadata": {},
   "source": [
    "#### This is a simple arithmetic expression to multiply then add integers###"
   ]
  },
  {
   "cell_type": "code",
   "execution_count": 5,
   "id": "9432be59",
   "metadata": {},
   "outputs": [
    {
     "data": {
      "text/plain": [
       "17"
      ]
     },
     "execution_count": 5,
     "metadata": {},
     "output_type": "execute_result"
    }
   ],
   "source": [
    "(3*4)+5"
   ]
  },
  {
   "cell_type": "markdown",
   "id": "8d77b705",
   "metadata": {},
   "source": [
    "#### This will convert 200 minutes to hours by dividing by 60"
   ]
  },
  {
   "cell_type": "code",
   "execution_count": 7,
   "id": "6ef1713a",
   "metadata": {},
   "outputs": [
    {
     "data": {
      "text/plain": [
       "3.3333333333333335"
      ]
     },
     "execution_count": 7,
     "metadata": {},
     "output_type": "execute_result"
    }
   ],
   "source": [
    "200 / 60"
   ]
  },
  {
   "cell_type": "markdown",
   "id": "cfeba184",
   "metadata": {},
   "source": [
    "### Objectives ###\n",
    "    - List of popular languages for Data Science\n",
    "    - Common libraries used by Data Science\n",
    "    - arithmetic expressions in Python"
   ]
  },
  {
   "cell_type": "markdown",
   "id": "e612dda0",
   "metadata": {},
   "source": [
    "## Author ##\n",
    "#### Author's name : Jesus Pulido ####"
   ]
  }
 ],
 "metadata": {
  "kernelspec": {
   "display_name": "Python 3 (ipykernel)",
   "language": "python",
   "name": "python3"
  },
  "language_info": {
   "codemirror_mode": {
    "name": "ipython",
    "version": 3
   },
   "file_extension": ".py",
   "mimetype": "text/x-python",
   "name": "python",
   "nbconvert_exporter": "python",
   "pygments_lexer": "ipython3",
   "version": "3.11.5"
  }
 },
 "nbformat": 4,
 "nbformat_minor": 5
}
