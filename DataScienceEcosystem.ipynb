{
 "cells": [
  {
   "cell_type": "code",
   "execution_count": null,
   "id": "168d823a",
   "metadata": {},
   "outputs": [],
   "source": [
    "from IPython.display import Image, display"
   ]
  },
  {
   "cell_type": "markdown",
   "id": "aa635278",
   "metadata": {},
   "source": [
    "# Data Science Tools and Ecosystem"
   ]
  },
  {
   "cell_type": "markdown",
   "id": "8c8a0558",
   "metadata": {},
   "source": [
    "## In this notebook, Data Science Tools and Ecosystem are summarized"
   ]
  },
  {
   "cell_type": "markdown",
   "id": "bb259463",
   "metadata": {},
   "source": [
    "### Some of the popular languages that Data Scientists use are:\n",
    "        1.- Python\n",
    "        2.- Julia\n",
    "        3.- R"
   ]
  },
  {
   "cell_type": "markdown",
   "id": "8d1c9a63",
   "metadata": {},
   "source": [
    "### Some of the commonly used libraries used by Data Scientists include:\n",
    "    1.-TensorFlow\n",
    "    2.- Pandas\n",
    "    3.- Numpy\n"
   ]
  },
  {
   "cell_type": "markdown",
   "id": "9b986685",
   "metadata": {},
   "source": [
    "| Data Science Tools       |\n",
    "|--------------------------|\n",
    "| Jupyter Notebooks        |\n",
    "| RStudio                  |\n",
    "| VS Code with Python      |"
   ]
  },
  {
   "cell_type": "markdown",
   "id": "29bb55e4",
   "metadata": {},
   "source": [
    "### Below are a few examples of evaluating arithmetic expressions in Python.\n",
    "    1.- 1+1 (sum)\n",
    "    2.- 3-4 (subtract)\n",
    "    3.- 5*6 (multiplication)"
   ]
  },
  {
   "cell_type": "markdown",
   "id": "53d952a2",
   "metadata": {},
   "source": [
    "#### This is a simple arithmetic expression to multiply then add integers###"
   ]
  },
  {
   "cell_type": "code",
   "execution_count": 5,
   "id": "ea034952",
   "metadata": {},
   "outputs": [
    {
     "data": {
      "text/plain": [
       "17"
      ]
     },
     "execution_count": 5,
     "metadata": {},
     "output_type": "execute_result"
    }
   ],
   "source": [
    "(3*4)+5"
   ]
  },
  {
   "cell_type": "markdown",
   "id": "58038ce4",
   "metadata": {},
   "source": [
    "#### This will convert 200 minutes to hours by dividing by 60"
   ]
  },
  {
   "cell_type": "code",
   "execution_count": 7,
   "id": "b6382803",
   "metadata": {},
   "outputs": [
    {
     "data": {
      "text/plain": [
       "3.3333333333333335"
      ]
     },
     "execution_count": 7,
     "metadata": {},
     "output_type": "execute_result"
    }
   ],
   "source": [
    "200 / 60"
   ]
  },
  {
   "cell_type": "markdown",
   "id": "e5de93a3",
   "metadata": {},
   "source": [
    "### Objectives ###\n",
    "    - List of popular languages for Data Science\n",
    "    - Common libraries used by Data Science\n",
    "    - arithmetic expressions in Python"
   ]
  },
  {
   "cell_type": "markdown",
   "id": "246aa788",
   "metadata": {},
   "source": [
    "## Author ##\n",
    "#### Author's name : Jesus Pulido ####"
   ]
  },
  {
   "cell_type": "code",
   "execution_count": null,
   "id": "6ce08796",
   "metadata": {},
   "outputs": [],
   "source": []
  }
 ],
 "metadata": {
  "kernelspec": {
   "display_name": "Python 3 (ipykernel)",
   "language": "python",
   "name": "python3"
  },
  "language_info": {
   "codemirror_mode": {
    "name": "ipython",
    "version": 3
   },
   "file_extension": ".py",
   "mimetype": "text/x-python",
   "name": "python",
   "nbconvert_exporter": "python",
   "pygments_lexer": "ipython3",
   "version": "3.11.5"
  }
 },
 "nbformat": 4,
 "nbformat_minor": 5
}
