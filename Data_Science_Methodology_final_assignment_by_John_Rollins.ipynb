{
  "nbformat": 4,
  "nbformat_minor": 0,
  "metadata": {
    "colab": {
      "provenance": [],
      "authorship_tag": "ABX9TyNOJa23HvSpRkIjPyxjWK/T",
      "include_colab_link": true
    },
    "kernelspec": {
      "name": "python3",
      "display_name": "Python 3"
    },
    "language_info": {
      "name": "python"
    }
  },
  "cells": [
    {
      "cell_type": "markdown",
      "metadata": {
        "id": "view-in-github",
        "colab_type": "text"
      },
      "source": [
        "<a href=\"https://colab.research.google.com/github/ChuyPL23/stunning-moon/blob/main/Data_Science_Methodology_final_assignment_by_John_Rollins.ipynb\" target=\"_parent\"><img src=\"https://colab.research.google.com/assets/colab-badge.svg\" alt=\"Open In Colab\"/></a>"
      ]
    },
    {
      "cell_type": "markdown",
      "source": [
        "#**Data Science Methodology final assignment by John Rollins**"
      ],
      "metadata": {
        "id": "peuPJUD438NM"
      }
    },
    {
      "cell_type": "markdown",
      "source": [
        "##**Step 1: Which one of the three topics you will use for your final assignment these three are: credit cards, hospitals, emails.**"
      ],
      "metadata": {
        "id": "gF6CbkWP4u6_"
      }
    },
    {
      "cell_type": "markdown",
      "source": [
        "#### Credit Cards, the reason is because i have an issue with select which one is the best option for me, and will define as a costumer and as Data Science field how to solve this problem, what could be the best option in my case."
      ],
      "metadata": {
        "id": "SPUYY7ae49IH"
      }
    },
    {
      "cell_type": "markdown",
      "source": [
        "##**Step 2: Business Understanding**\n",
        "1.   Define the problem: find the best credit card for\n",
        "one specific costumer.\n",
        "2.   Understand the problem: check the case to review credit history to find the best possible credit card according his needs.\n",
        "3.   Objectives: the correct credit card\n",
        "4.   Engagement: your bank has the best solution for his case.\n"
      ],
      "metadata": {
        "id": "uvT6ogmW7-DR"
      }
    },
    {
      "cell_type": "markdown",
      "source": [
        "##**Step 3 Data Understanding**\n",
        "1.- Question types:\n",
        "*   Descriptive: current status: no debt, expenses 3500.00/month  age: 30 / single\n",
        "*   Diagnostic: statistical analysis: salary per year: 75K\n",
        "*   Predictive: forecasting: 33,000.00/year\n",
        "*   Prescriptive: recommendations: get an 30,000.00 credit card with benefits by shoping in stores. Below you will find the benefits (--------------------)\n",
        "\n",
        "\n",
        "\n"
      ],
      "metadata": {
        "id": "WP9N2CZn-4yo"
      }
    },
    {
      "cell_type": "markdown",
      "source": [
        "##**Step 4: Crisp-DM six stages are:**\n",
        "\n",
        "*   The Business Understanding Stage\n",
        "*   The Data Understanding Stage\n",
        "*   Data Preparation Stage\n",
        "*   The Modeling Stage\n",
        "*   The Evaluation Stage\n",
        "*   The Deployment Stage\n",
        "\n",
        "\n",
        "\n",
        "\n"
      ],
      "metadata": {
        "id": "10mNqgovBHiq"
      }
    },
    {
      "cell_type": "markdown",
      "source": [
        "## **Step 5: Conclussions:**\n",
        "the best stage for the client it is to get an 25,000.00 credit card with 3% benefits by the giving data, because he does not have history credit and his expenses are high to manipulate high quantities of credit. A single person must improve monthly profit and achieve with all the monthly payments and will be possible candidate to increase his credit rate."
      ],
      "metadata": {
        "id": "iSCESgi3E77b"
      }
    },
    {
      "cell_type": "code",
      "source": [],
      "metadata": {
        "id": "CJu8lql1Hb3f"
      },
      "execution_count": null,
      "outputs": []
    }
  ]
}